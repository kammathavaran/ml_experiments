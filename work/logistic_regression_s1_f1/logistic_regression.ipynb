{
  "cells": [
    {
      "cell_type": "markdown",
      "metadata": {
        "id": "QadxTDEPhrrh"
      },
      "source": [
        "# Introduction\n",
        "\n",
        "\n",
        "Instead of multiclass regression models, the implementation attempted here is one versus rest classification.\n",
        "\n"
      ]
    },
    {
      "cell_type": "code",
      "execution_count": null,
      "metadata": {
        "id": "7CkPr7hin8Lq"
      },
      "outputs": [],
      "source": [
        "# references\n",
        "# pieces of code adapted from w3schools.com, stackoverflow and geeksforgeeks.org\n",
        "\n",
        "#import numpy and plot libraries\n",
        "import numpy as np\n",
        "from numpy import log,dot,e,shape\n",
        "import copy, math\n",
        "import matplotlib.pyplot as plt\n",
        "import random\n",
        "np.set_printoptions(precision=2)\n"
      ]
    },
    {
      "cell_type": "code",
      "execution_count": null,
      "metadata": {
        "id": "ujt1r-Fjnp0H"
      },
      "outputs": [],
      "source": [
        "# this is loaded from a shared volume on collab - permissions are provided for your access.\n",
        "dataLocation = \"/content/drive/MyDrive/assignments/sem1/ml/assignment1/bezdekIris.data\"\n",
        "\n",
        "# # load this to a np dataset\n",
        "featureSet = np.loadtxt(dataLocation, delimiter=\",\", usecols = (0,1,2,3))\n",
        "labelSet = np.loadtxt(dataLocation, delimiter=\",\", usecols = (4), dtype=str)\n",
        "\n",
        "def unison_shuffled_copies(a, b):\n",
        "    assert len(a) == len(b)\n",
        "    p = np.random.permutation(len(a))\n",
        "    return a[p], b[p]\n",
        "\n",
        "featureSet, labelSet = unison_shuffled_copies(featureSet, labelSet)\n",
        "\n",
        "# keeping a copy\n",
        "originalFeatureSet = featureSet[:]\n",
        "originalLabelSet = labelSet[:]"
      ]
    },
    {
      "cell_type": "markdown",
      "metadata": {
        "id": "Snu7wykQRO_9"
      },
      "source": [
        "The original dataset is loaded in to the memory. Shuffling and sorting to test, validate and test dataset is the next step to do."
      ]
    },
    {
      "cell_type": "code",
      "execution_count": null,
      "metadata": {
        "id": "nUIdsG1hFp5q"
      },
      "outputs": [],
      "source": [
        "X_features = ['Sepal length','Sepal width','Petal length','Petal width']\n",
        "\n",
        "# Splitting to the different samples - train, validate, test\n",
        "splitRatio = [70, 20, 10] # sum should be 100% - otherwise will clip the array\n",
        "\n",
        "X_train, X_validation, X_test = np.split(featureSet,\n",
        "  [int(splitRatio[0]/100*len(featureSet)), int((splitRatio[0]+splitRatio[1])/100*len(featureSet)) ] )\n",
        "y_train, y_validation, y_test = np.split(labelSet,\n",
        "  [int(splitRatio[0]/100*len(labelSet)), int((splitRatio[0]+splitRatio[1])/100*len(labelSet)) ] )"
      ]
    },
    {
      "cell_type": "markdown",
      "metadata": {
        "id": "xqKbeh7TajHe"
      },
      "source": [
        "Next step is to analyse the dataset to find outliers. Histograms and distribution graphs will help.\n"
      ]
    },
    {
      "cell_type": "code",
      "execution_count": null,
      "metadata": {
        "colab": {
          "base_uri": "https://localhost:8080/",
          "height": 421
        },
        "id": "cBOy2j8QlTVv",
        "outputId": "b3ce38f6-79ee-4fd8-a338-3eb639d174e4"
      },
      "outputs": [
        {
          "name": "stdout",
          "output_type": "stream",
          "text": [
            "Measures of Dispersion\n",
            "Minimum = 1.3\n",
            "Maximum = 5.7\n",
            "Range = 4.4\n",
            "Variance = 2.631875\n",
            "Standard Deviation = 1.6223054582907621\n"
          ]
        },
        {
          "data": {
            "image/png": "[encoded data removed]",
            "text/plain": [
              "<Figure size 1200x300 with 4 Axes>"
            ]
          },
          "metadata": {},
          "output_type": "display_data"
        }
      ],
      "source": [
        "## measures of dispersion\n",
        "minInData = np.amin(X_train[0])\n",
        "maxInData = np.amax(X_train[0])\n",
        "rangeOfData = np.ptp(X_train[0])\n",
        "varianceInData = np.var(X_train[0])\n",
        "sdOfData = np.std(X_train[0])\n",
        "\n",
        "print(\"Measures of Dispersion\")\n",
        "print(\"Minimum =\", minInData)\n",
        "print(\"Maximum =\", maxInData)\n",
        "print(\"Range =\", rangeOfData)\n",
        "print(\"Variance =\", varianceInData)\n",
        "print(\"Standard Deviation =\", sdOfData)\n",
        "\n",
        "fig2, ax =plt.subplots(1, 4, figsize=(12, 3), sharey=True)\n",
        "for i in range(len(ax)):\n",
        "  ax[i].scatter(X_train[:,i],y_train)\n",
        "  ax[i].set_xlabel(X_features[i])\n",
        "\n",
        "plt.show()"
      ]
    },
    {
      "cell_type": "markdown",
      "metadata": {
        "id": "aefvsEZ1tbcS"
      },
      "source": [
        "The values doesnt seem to be highly dependent and is of similar range. Also no outliers were found."
      ]
    },
    {
      "cell_type": "code",
      "execution_count": null,
      "metadata": {
        "colab": {
          "base_uri": "https://localhost:8080/"
        },
        "id": "AAOaC0VBbso3",
        "outputId": "eb1ff1ea-e32d-49f8-8654-d9d751657686"
      },
      "outputs": [
        {
          "name": "stdout",
          "output_type": "stream",
          "text": [
            "Regularized cost for sample values  :Iris-setosa 0.29977675781733437\n",
            "Regularized cost for sample values  :Iris-versicolor 0.892816612671962\n",
            "Regularized cost for sample values  :Iris-virginica 1.212804563656885\n"
          ]
        }
      ],
      "source": [
        "CLASS_SENTOSA = \"Iris-setosa\"\n",
        "CLASS_VERSICOLOR = \"Iris-versicolor\"\n",
        "CLASS_VIRGINICA = \"Iris-virginica\"\n",
        "\n",
        "# returns y vector for a class\n",
        "def classifierFunction(y, class_name):\n",
        "  newY = []\n",
        "  for x in range(len(y)):\n",
        "    if y[x] == class_name:\n",
        "      newY.append(1.)\n",
        "    else:\n",
        "      newY.append(0.)\n",
        "  return np.array(newY)\n",
        "\n",
        "\n",
        "#simple sigmoid function\n",
        "def c_sigmoid(z):\n",
        "  return 1/(1+np.exp(-z))\n",
        "\n",
        "\n",
        "# Cost equation = squared loss function + regularised cost\n",
        "# = 𝐽(𝐰,𝑏)= 1𝑚 ∑𝑖=0,𝑚−1 [  −𝑦(𝑖) log( 𝑓𝐰,𝑏(𝐱(𝑖)) ) − ( 1−𝑦(𝑖) ) log( 1− 𝑓𝐰,𝑏(𝐱(𝑖)) ) ] + 𝜆2𝑚 ∑𝑗=0,𝑛−1 𝑤^2\n",
        "# where 𝑓𝐰,𝑏(𝐱(𝑖))=𝑠𝑖𝑔𝑚𝑜𝑖𝑑(𝐰⋅𝐱(𝑖)+𝑏)\n",
        "#\n",
        "# X = trainingset , y = true value, w,b = weights, bias , lam_da = lambda\n",
        "#\n",
        "def cost_for_model(X, y, w, b, lam_da):\n",
        "  cost = 0.\n",
        "  # m = features, n = samples\n",
        "  # shape is tuple - rows and columns\n",
        "  m, n = X.shape\n",
        "\n",
        "  #loop through the samples and\n",
        "  for i in range(m):\n",
        "    line_i = np.dot(X[i], w) + b\n",
        "    f_i = c_sigmoid(line_i)\n",
        "    cost += -y[i] * np.log(f_i) - (1-y[i]) *np.log( 1-f_i )\n",
        "  cost = cost / m\n",
        "\n",
        "  reg_cost = 0\n",
        "  for j in range(n):\n",
        "      reg_cost += (w[j]**2)\n",
        "  reg_cost = (lam_da/(2*m)) * reg_cost\n",
        "\n",
        "  total_cost = cost + reg_cost\n",
        "  return total_cost\n",
        "\n",
        "\n",
        "np.random.seed(1)\n",
        "w_tmp = np.random.rand(X_train.shape[1]).reshape(-1,)-0.5\n",
        "b_tmp = 0.5\n",
        "lambda_tmp = 0.7\n",
        "\n",
        "y_train_sentosa = classifierFunction(y_train, CLASS_SENTOSA)\n",
        "y_train_versicolor = classifierFunction(y_train, CLASS_VERSICOLOR)\n",
        "y_train_virginia = classifierFunction(y_train, CLASS_VIRGINICA)\n",
        "\n",
        "cost_tmp_sentosa = cost_for_model(X_train, y_train_sentosa, w_tmp, b_tmp, lambda_tmp)\n",
        "cost_tmp_versicolor = cost_for_model(X_train, y_train_versicolor, w_tmp, b_tmp, lambda_tmp)\n",
        "cost_tmp_virginia = cost_for_model(X_train, y_train_virginia, w_tmp, b_tmp, lambda_tmp)\n",
        "\n",
        "\n",
        "print(f\"Regularized cost for sample values  :{CLASS_SENTOSA}\", cost_tmp_sentosa)\n",
        "print(f\"Regularized cost for sample values  :{CLASS_VERSICOLOR}\", cost_tmp_versicolor)\n",
        "print(f\"Regularized cost for sample values  :{CLASS_VIRGINICA}\", cost_tmp_virginia)\n",
        "\n"
      ]
    },
    {
      "cell_type": "markdown",
      "metadata": {
        "id": "C3vpK2iOfzth"
      },
      "source": [
        "Now implement gradient descent.\n"
      ]
    },
    {
      "cell_type": "code",
      "execution_count": null,
      "metadata": {
        "id": "aF7h0zb9_U9A"
      },
      "outputs": [],
      "source": [
        "def compute_delta_for_gd_logistic (X, y, w, b, lam_da):\n",
        "  # m = features, n = samples\n",
        "  # shape is tuple - rows and columns\n",
        "  m, n = X.shape\n",
        "\n",
        "  #start with zero values\n",
        "  delta_w = np.zeros((n,))\n",
        "  delta_b = 0.\n",
        "\n",
        "  for i in range(m):\n",
        "    fit_i = c_sigmoid(np.dot(X[i],w) + b)\n",
        "    loss_i  = fit_i - y[i]\n",
        "    for j in range(n):\n",
        "      eee = loss_i * X[i,j]\n",
        "      delta_w[j] = delta_w[j] + eee\n",
        "    delta_b = delta_b + loss_i\n",
        "\n",
        "  delta_w = delta_w/m\n",
        "  delta_b = delta_b/m\n",
        "\n",
        "  # regularising w\n",
        "  for j in range(n):\n",
        "        delta_w[j] = delta_w[j] + (lam_da/m) * w[j]\n",
        "\n",
        "  return delta_w, delta_b\n",
        "\n",
        "\n",
        "# Weights are different for each model\n",
        "def gradient_descent(X, y, w_temp, b, lam_da, alpha, num_iterations):\n",
        "\n",
        "    w = copy.deepcopy(w_temp)\n",
        "    costHistory = copy.deepcopy([])\n",
        "    weightsHistory = copy.deepcopy([])\n",
        "\n",
        "    for i in range(num_iterations):\n",
        "\n",
        "      #deltas for this round\n",
        "      delta_w, delta_b = compute_delta_for_gd_logistic(X, y, w, b, lam_da)\n",
        "\n",
        "      # update w and b with the delta\n",
        "      w = w - alpha * delta_w\n",
        "      b = b - alpha * delta_b\n",
        "\n",
        "      # from stanford templates\n",
        "      if i<100000:      # prevent resource exhaustion\n",
        "          costHistory.append( cost_for_model(X, y, w, b, lam_da) )\n",
        "          weightsHistory.append([w,b])\n",
        "\n",
        "      # Print cost every at intervals 10 times or as many iterations if < 10\n",
        "      if i% math.ceil(num_iterations / 10) == 0:\n",
        "          print(f\"Iteration {i:4d}: Cost {costHistory[-1]}   \")\n",
        "\n",
        "    return w, b, costHistory, weightsHistory\n"
      ]
    },
    {
      "cell_type": "code",
      "execution_count": null,
      "metadata": {
        "colab": {
          "base_uri": "https://localhost:8080/"
        },
        "id": "j-RDRxKNlmTO",
        "outputId": "c387c76f-6a4f-4239-801b-c5c67208255d"
      },
      "outputs": [
        {
          "name": "stdout",
          "output_type": "stream",
          "text": [
            "Iteration    0: Cost 0.5520665334479983   \n",
            "Iteration 1000: Cost 0.042997360697420106   \n",
            "Iteration 2000: Cost 0.04276867950591684   \n",
            "Iteration 3000: Cost 0.04257598629154014   \n",
            "Iteration 4000: Cost 0.04239318441308772   \n",
            "Iteration 5000: Cost 0.042219464800455006   \n",
            "Iteration 6000: Cost 0.04205430329340858   \n",
            "Iteration 7000: Cost 0.04189724882013451   \n",
            "Iteration 8000: Cost 0.04174788484923908   \n",
            "Iteration 9000: Cost 0.04160581956999426   \n",
            "Iteration    0: Cost 0.6436959875624411   \n",
            "Iteration 1000: Cost 0.520434436518573   \n",
            "Iteration 2000: Cost 0.5092026695509776   \n",
            "Iteration 3000: Cost 0.5015730290361737   \n",
            "Iteration 4000: Cost 0.4960883401933365   \n",
            "Iteration 5000: Cost 0.4921043256169703   \n",
            "Iteration 6000: Cost 0.4891896366335433   \n",
            "Iteration 7000: Cost 0.4870441023073408   \n",
            "Iteration 8000: Cost 0.485456116537716   \n",
            "Iteration 9000: Cost 0.4842751151542888   \n",
            "Iteration    0: Cost 0.6551482829735987   \n",
            "Iteration 1000: Cost 0.20375659281070221   \n",
            "Iteration 2000: Cost 0.19517641152813558   \n",
            "Iteration 3000: Cost 0.18921232685762573   \n",
            "Iteration 4000: Cost 0.18425788334083998   \n",
            "Iteration 5000: Cost 0.18008595177522974   \n",
            "Iteration 6000: Cost 0.17654976637007497   \n",
            "Iteration 7000: Cost 0.1735349622788699   \n",
            "Iteration 8000: Cost 0.1709508066754645   \n",
            "Iteration 9000: Cost 0.16872475860478442   \n"
          ]
        }
      ],
      "source": [
        "w_tmp  = [0.,0.,0.,0.]\n",
        "b_tmp  = 0.\n",
        "alph = 0.1\n",
        "lambda_tmp = 0.7\n",
        "iters = 10000\n",
        "\n",
        "w_sentosa, b_sentosa, cost_history_sentosa, w_history_sentosa = gradient_descent(X_train, y_train_sentosa, w_tmp, b_tmp, lambda_tmp, alph, iters)\n",
        "w_versicolor, b_versicolor, cost_history_versicolor, w_history_versicolor = gradient_descent(X_train, y_train_versicolor, w_tmp, b_tmp, lambda_tmp, alph, iters)\n",
        "w_virginia, b_virginia, cost_history_virginia, w_history_virginia = gradient_descent(X_train, y_train_virginia, w_tmp, b_tmp, lambda_tmp, alph, iters)\n"
      ]
    },
    {
      "cell_type": "code",
      "execution_count": null,
      "metadata": {
        "colab": {
          "base_uri": "https://localhost:8080/",
          "height": 1000
        },
        "id": "vCZQEkKXraVf",
        "outputId": "54c3b719-0ea0-470c-ab03-98a8acfa0772"
      },
      "outputs": [
        {
          "data": {
            "image/png": "[encoded data removed]",
            "text/plain": [
              "<Figure size 640x480 with 1 Axes>"
            ]
          },
          "metadata": {},
          "output_type": "display_data"
        },
        {
          "data": {
            "image/png": "[encoded data removed]",
            "text/plain": [
              "<Figure size 640x480 with 1 Axes>"
            ]
          },
          "metadata": {},
          "output_type": "display_data"
        },
        {
          "data": {
            "image/png": "[encoded data removed]",
            "text/plain": [
              "<Figure size 640x480 with 1 Axes>"
            ]
          },
          "metadata": {},
          "output_type": "display_data"
        }
      ],
      "source": [
        "#plotting the gradient descent\n",
        "\n",
        "def prediction_logistic (x, w, b, decision_b):\n",
        "  modelValue = np.dot(x, w) + b\n",
        "  sigValue = c_sigmoid(modelValue)\n",
        "  return (sigValue > decision_b)\n",
        "\n",
        "\n",
        "y_validation_sentosa = classifierFunction(y_validation, CLASS_SENTOSA)\n",
        "y_validation_versicolor = classifierFunction(y_validation, CLASS_VERSICOLOR)\n",
        "y_validation_virginia = classifierFunction(y_validation, CLASS_VIRGINICA)\n",
        "\n",
        "y_test_sentosa = classifierFunction(y_test, CLASS_SENTOSA)\n",
        "y_test_versicolor = classifierFunction(y_test, CLASS_VERSICOLOR)\n",
        "y_test_virginia = classifierFunction(y_test, CLASS_VIRGINICA)\n",
        "\n",
        "\n",
        "decision_boundary = 0.5\n",
        "\n",
        "def measureSuccessRate(trueSetX, trueSetY, w, b, decision_boundary):\n",
        "  successCount = 0\n",
        "  for validationRow in range(len(trueSetX)):\n",
        "    testResult = prediction_logistic (trueSetX[validationRow], w, b, decision_boundary)\n",
        "    if testResult == (trueSetY[validationRow]==1):\n",
        "      successCount += 1\n",
        "  return successCount, 100*successCount/len(trueSetX)\n",
        "\n",
        "\n",
        "\n",
        "\n",
        "successRateSentosa = []\n",
        "successRateVirginia = []\n",
        "successRateVersicolor= []\n",
        "\n",
        "for i in range(10):\n",
        "  _, successPercentageSentosa = measureSuccessRate(X_validation, y_validation_sentosa, w_history_sentosa[i][0], w_history_sentosa[i][1], decision_boundary)\n",
        "  _, successPercentageVirginia = measureSuccessRate(X_validation, y_validation_virginia, w_history_virginia[i][0], w_history_virginia[i][1], decision_boundary)\n",
        "  _, successPercentageVersicolor = measureSuccessRate(X_validation, y_validation_versicolor, w_history_versicolor[i][0], w_history_versicolor[i][1], decision_boundary)\n",
        "  successRateSentosa.append(successPercentageSentosa)\n",
        "  successRateVirginia.append(successPercentageVirginia)\n",
        "  successRateVersicolor.append(successPercentageVersicolor)\n",
        "\n",
        "\n",
        "fig = plt.figure()\n",
        "ax = plt.axes()\n",
        "ax.plot( [1000, 2000, 3000, 4000, 5000, 6000, 7000, 8000, 9000, 10000], successRateSentosa);\n",
        "fig = plt.figure()\n",
        "ax = plt.axes()\n",
        "ax.plot( [1000, 2000, 3000, 4000, 5000, 6000, 7000, 8000, 9000, 10000], successRateVirginia);\n",
        "fig = plt.figure()\n",
        "ax = plt.axes()\n",
        "ax.plot( [1000, 2000, 3000, 4000, 5000, 6000, 7000, 8000, 9000, 10000], successRateVersicolor);\n",
        "\n",
        "\n"
      ]
    },
    {
      "cell_type": "code",
      "execution_count": null,
      "metadata": {
        "id": "WGSE8HzAVGMs"
      },
      "outputs": [],
      "source": []
    }
  ],
  "metadata": {
    "accelerator": "GPU",
    "colab": {
      "gpuType": "T4",
      "provenance": []
    },
    "kernelspec": {
      "display_name": "Python 3",
      "name": "python3"
    },
    "language_info": {
      "name": "python"
    }
  },
  "nbformat": 4,
  "nbformat_minor": 0
}
